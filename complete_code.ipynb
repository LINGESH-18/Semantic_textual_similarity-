{
 "cells": [
  {
   "cell_type": "markdown",
   "metadata": {
    "id": "K59I1uKYrFSR"
   },
   "source": [
    ""
   ]
  },
  {
   "cell_type": "markdown",
   "metadata": {
    "id": "Ff9HPXZxrHQU"
   },
   "source": [
    "# ***Natural language Processing , Pytorch , Tensorflow***"
   ]
  },
  {
   "cell_type": "markdown",
   "metadata": {
    "id": "n0DjU4akfVMF"
   },
   "source": [
    "\n",
    "**Importing the library** "
   ]
  },
  {
   "cell_type": "code",
   "execution_count": 31,
   "metadata": {
    "id": "hdYSlZ1NRsFi"
   },
   "outputs": [],
   "source": [
    "\n",
    "import pandas as pd\n",
    "import numpy as np\n",
    "\n",
    "# For visualizing the dataset\n",
    "\n",
    "import matplotlib.pyplot as plt \n",
    "from sklearn.model_selection import train_test_split\n",
    "import seaborn as sns\n",
    "\n",
    "# For replacing the symbol that doesn't need \n",
    "import re\n",
    "\n",
    "# Machine learning model\n",
    "from sklearn.naive_bayes import GaussianNB\n",
    "\n",
    "# Evaluating the model\n",
    "\n",
    "from sklearn.metrics import confusion_matrix,accuracy_score\n",
    "\n",
    "\n",
    "\n",
    "#  Compute Semantic Textual Similarity between paras using Pytorch and SentenceTransformers\n",
    "\n",
    "from sentence_transformers import SentenceTransformer, util\n",
    "model=SentenceTransformer('stsb-roberta-large')\n",
    "\n",
    "#  Natural language processing , For Bag of words , Reducing the sparse matrix dimensinality , stemming\n",
    "\n",
    "from sklearn.feature_extraction.text import CountVectorizer\n",
    "from nltk.corpus import stopwords\n",
    "from nltk.stem.porter import PorterStemmer\n",
    "\n",
    "# To avoid warning \n",
    "\n",
    "from warnings import filterwarnings\n",
    "filterwarnings('ignore')\n",
    "\n",
    "from IPython.display import display\n"
   ]
  },
  {
   "cell_type": "markdown",
   "metadata": {
    "id": "60iYVFBSflUS"
   },
   "source": [
    "**Reading csv**"
   ]
  },
  {
   "cell_type": "code",
   "execution_count": 5,
   "metadata": {
    "colab": {
     "base_uri": "https://localhost:8080/",
     "height": 110
    },
    "id": "C7ugtUo-SrUC",
    "outputId": "ebf3e586-1d1a-49a0-ee1a-5bfaacd57977"
   },
   "outputs": [
    {
     "data": {
      "text/html": [
       "<div>\n",
       "<style scoped>\n",
       "    .dataframe tbody tr th:only-of-type {\n",
       "        vertical-align: middle;\n",
       "    }\n",
       "\n",
       "    .dataframe tbody tr th {\n",
       "        vertical-align: top;\n",
       "    }\n",
       "\n",
       "    .dataframe thead th {\n",
       "        text-align: right;\n",
       "    }\n",
       "</style>\n",
       "<table border=\"1\" class=\"dataframe\">\n",
       "  <thead>\n",
       "    <tr style=\"text-align: right;\">\n",
       "      <th></th>\n",
       "      <th>Unique_ID</th>\n",
       "      <th>text1</th>\n",
       "      <th>text2</th>\n",
       "    </tr>\n",
       "  </thead>\n",
       "  <tbody>\n",
       "    <tr>\n",
       "      <th>0</th>\n",
       "      <td>0</td>\n",
       "      <td>savvy searchers fail to spot ads internet sear...</td>\n",
       "      <td>newcastle 2-1 bolton kieron dyer smashed home ...</td>\n",
       "    </tr>\n",
       "    <tr>\n",
       "      <th>1</th>\n",
       "      <td>1</td>\n",
       "      <td>millions to miss out on the net by 2025  40% o...</td>\n",
       "      <td>nasdaq planning $100m share sale the owner of ...</td>\n",
       "    </tr>\n",
       "  </tbody>\n",
       "</table>\n",
       "</div>"
      ],
      "text/plain": [
       "   Unique_ID  ...                                              text2\n",
       "0          0  ...  newcastle 2-1 bolton kieron dyer smashed home ...\n",
       "1          1  ...  nasdaq planning $100m share sale the owner of ...\n",
       "\n",
       "[2 rows x 3 columns]"
      ]
     },
     "execution_count": 5,
     "metadata": {},
     "output_type": "execute_result"
    }
   ],
   "source": [
    "data=pd.read_csv('Text_Similarity_Dataset.csv')\n",
    "data.head(2)"
   ]
  },
  {
   "cell_type": "markdown",
   "metadata": {
    "id": "QiL0vG2xgEhI"
   },
   "source": [
    "**Data description**"
   ]
  },
  {
   "cell_type": "code",
   "execution_count": 12,
   "metadata": {
    "colab": {
     "base_uri": "https://localhost:8080/"
    },
    "id": "OYHwpkP-YTrM",
    "outputId": "cc87c239-17c5-4f7b-cc24-2aecd15a8475"
   },
   "outputs": [
    {
     "name": "stdout",
     "output_type": "stream",
     "text": [
      "<class 'pandas.core.frame.DataFrame'>\n",
      "RangeIndex: 4023 entries, 0 to 4022\n",
      "Data columns (total 4 columns):\n",
      " #   Column     Non-Null Count  Dtype \n",
      "---  ------     --------------  ----- \n",
      " 0   Unique_ID  4023 non-null   int64 \n",
      " 1   text1      4023 non-null   object\n",
      " 2   text2      4023 non-null   object\n",
      " 3   Sts_Score  4023 non-null   int64 \n",
      "dtypes: int64(2), object(2)\n",
      "memory usage: 125.8+ KB\n"
     ]
    }
   ],
   "source": [
    "# information of the dataset\n",
    "\n",
    "data.info()"
   ]
  },
  {
   "cell_type": "code",
   "execution_count": 13,
   "metadata": {
    "colab": {
     "base_uri": "https://localhost:8080/",
     "height": 172
    },
    "id": "S56dn8msYZ1P",
    "outputId": "0d998724-b118-4146-b215-64e6ba010dfb"
   },
   "outputs": [
    {
     "data": {
      "text/html": [
       "<div>\n",
       "<style scoped>\n",
       "    .dataframe tbody tr th:only-of-type {\n",
       "        vertical-align: middle;\n",
       "    }\n",
       "\n",
       "    .dataframe tbody tr th {\n",
       "        vertical-align: top;\n",
       "    }\n",
       "\n",
       "    .dataframe thead th {\n",
       "        text-align: right;\n",
       "    }\n",
       "</style>\n",
       "<table border=\"1\" class=\"dataframe\">\n",
       "  <thead>\n",
       "    <tr style=\"text-align: right;\">\n",
       "      <th></th>\n",
       "      <th>text1</th>\n",
       "      <th>text2</th>\n",
       "    </tr>\n",
       "  </thead>\n",
       "  <tbody>\n",
       "    <tr>\n",
       "      <th>count</th>\n",
       "      <td>4023</td>\n",
       "      <td>4023</td>\n",
       "    </tr>\n",
       "    <tr>\n",
       "      <th>unique</th>\n",
       "      <td>2125</td>\n",
       "      <td>2125</td>\n",
       "    </tr>\n",
       "    <tr>\n",
       "      <th>top</th>\n",
       "      <td>kennedy questions trust of blair lib dem leade...</td>\n",
       "      <td>millions to miss out on the net by 2025  40% o...</td>\n",
       "    </tr>\n",
       "    <tr>\n",
       "      <th>freq</th>\n",
       "      <td>4</td>\n",
       "      <td>4</td>\n",
       "    </tr>\n",
       "  </tbody>\n",
       "</table>\n",
       "</div>"
      ],
      "text/plain": [
       "                                                    text1                                              text2\n",
       "count                                                4023                                               4023\n",
       "unique                                               2125                                               2125\n",
       "top     kennedy questions trust of blair lib dem leade...  millions to miss out on the net by 2025  40% o...\n",
       "freq                                                    4                                                  4"
      ]
     },
     "execution_count": 13,
     "metadata": {},
     "output_type": "execute_result"
    }
   ],
   "source": [
    "# Statistical description \n",
    "\n",
    "data.describe(include='object')"
   ]
  },
  {
   "cell_type": "code",
   "execution_count": 34,
   "metadata": {
    "colab": {
     "base_uri": "https://localhost:8080/",
     "height": 391
    },
    "id": "tK7ZJ9Prd_4P",
    "outputId": "45b8cded-9e9b-4715-af22-0f722d4e7a12"
   },
   "outputs": [
    {
     "data": {
      "text/plain": [
       "<seaborn.axisgrid.PairGrid at 0x7f4dbfecbe50>"
      ]
     },
     "execution_count": 34,
     "metadata": {},
     "output_type": "execute_result"
    },
    {
     "data": {
      "image/png": "[encoded data removed]",
      "text/plain": [
       "<Figure size 360x360 with 6 Axes>"
      ]
     },
     "metadata": {
      "needs_background": "light"
     },
     "output_type": "display_data"
    }
   ],
   "source": [
    "# Dataset visualization\n",
    "\n",
    "sns.pairplot(data)"
   ]
  },
  {
   "cell_type": "code",
   "execution_count": 24,
   "metadata": {
    "id": "meT9fX0gc4JW"
   },
   "outputs": [],
   "source": [
    "# Getting the bag of words\n",
    "\n",
    "cv=CountVectorizer()\n",
    "text1_array=cv.fit_transform(data['text1']).toarray()\n",
    "x=text1_array"
   ]
  },
  {
   "cell_type": "code",
   "execution_count": 6,
   "metadata": {
    "id": "Cl_5TOAzR_k-"
   },
   "outputs": [],
   "source": [
    "text1=data['text1'].values.tolist()\n",
    "text2=data['text2'].values.tolist()\n"
   ]
  },
  {
   "cell_type": "markdown",
   "metadata": {
    "id": "LOtA4YadgVnO"
   },
   "source": [
    "**Tensorflow and pytorch**"
   ]
  },
  {
   "cell_type": "markdown",
   "metadata": {
    "id": "AmftoO5XgiMZ"
   },
   "source": [
    "# Finding the sts value"
   ]
  },
  {
   "cell_type": "markdown",
   "metadata": {
    "id": "eU4wSQBcsSmv"
   },
   "source": [
    "Getting the sts value by **Pytorch** , SentenceTransformer \n",
    "\n"
   ]
  },
  {
   "cell_type": "code",
   "execution_count": 7,
   "metadata": {
    "id": "63IaaT1FS9Ix"
   },
   "outputs": [],
   "source": [
    "\n",
    "sts=[]\n",
    "\n",
    "for i in range(0,len(text1)):\n",
    "\n",
    "    t1=re.sub('[^a-zA-Z]',' ',text1[i])\n",
    "    t1=t1.lower()\n",
    "    t2=re.sub('[^a-zA-Z]',' ',text2[i])\n",
    "    t2=t2.lower()\n",
    "    \n",
    "    # encode Text to get their embeddings \n",
    "    \n",
    "    embedding1 = model.encode(t1, convert_to_tensor=True)\n",
    "    embedding2 = model.encode(t2, convert_to_tensor=True)\n",
    "    \n",
    "    # compute similarity scores of two embeddings using pytorch\n",
    "    \n",
    "    cosine_scores = util.pytorch_cos_sim(embedding1, embedding2)\n",
    "\n",
    "    # Appending the similarity scores\n",
    "\n",
    "    if cosine_scores.item()<=1:\n",
    "        sts.append(round(cosine_scores.item()))\n",
    "    else:\n",
    "        sts.append(1)\n",
    "    "
   ]
  },
  {
   "cell_type": "markdown",
   "metadata": {
    "id": "_csQID1rrCcQ"
   },
   "source": [
    ""
   ]
  },
  {
   "cell_type": "code",
   "execution_count": 9,
   "metadata": {
    "id": "m3Jbdw2nWKyX"
   },
   "outputs": [],
   "source": [
    "data['Sts_Score']=sts"
   ]
  },
  {
   "cell_type": "code",
   "execution_count": 16,
   "metadata": {
    "id": "IKVXK7zJYQmG"
   },
   "outputs": [],
   "source": [
    "y=data['Sts_Score'].values\n"
   ]
  },
  {
   "cell_type": "markdown",
   "metadata": {
    "id": "mlIvWIcSg6CD"
   },
   "source": [
    "**Training testing Dataset**"
   ]
  },
  {
   "cell_type": "code",
   "execution_count": 25,
   "metadata": {
    "id": "iQquadU7ZroM"
   },
   "outputs": [],
   "source": [
    "xtr,xte,ytr,yte=train_test_split(x,y,test_size=0.2)"
   ]
  },
  {
   "cell_type": "markdown",
   "metadata": {
    "id": "LfMYrtVrZlkV"
   },
   "source": [
    "### **Naive bayes**"
   ]
  },
  {
   "cell_type": "code",
   "execution_count": 26,
   "metadata": {
    "id": "_cCRxRbrZrvE"
   },
   "outputs": [],
   "source": [
    "# creating a model and fitting the tained datas\n",
    "classifier=GaussianNB()\n",
    "classifier=classifier.fit(xtr,ytr)"
   ]
  },
  {
   "cell_type": "markdown",
   "metadata": {
    "id": "FD2qkOexgx3f"
   },
   "source": [
    "**Prediction**"
   ]
  },
  {
   "cell_type": "code",
   "execution_count": 28,
   "metadata": {
    "id": "dzdfbgjhZr3P"
   },
   "outputs": [],
   "source": [
    "#predicting the test result\n",
    "y_pred=classifier.predict(xte)"
   ]
  },
  {
   "cell_type": "markdown",
   "metadata": {
    "id": "jxK7pTQ3hJl4"
   },
   "source": [
    "**Confusion matrix and Accuracy score**"
   ]
  },
  {
   "cell_type": "code",
   "execution_count": 29,
   "metadata": {
    "colab": {
     "base_uri": "https://localhost:8080/"
    },
    "id": "8WLhju_Ydhdd",
    "outputId": "4ce876d0-40b1-4b5b-ad17-7cfea74b8e3c"
   },
   "outputs": [
    {
     "data": {
      "text/plain": [
       "array([[756,   0],\n",
       "       [  0,  49]])"
      ]
     },
     "execution_count": 29,
     "metadata": {},
     "output_type": "execute_result"
    }
   ],
   "source": [
    "print(confusion_matrix(y_pred,yte))"
   ]
  },
  {
   "cell_type": "code",
   "execution_count": 30,
   "metadata": {
    "colab": {
     "base_uri": "https://localhost:8080/"
    },
    "id": "b_V9w8swdrsP",
    "outputId": "70e05f51-edb0-46c6-c922-189c93881795"
   },
   "outputs": [
    {
     "data": {
      "text/plain": [
       "1.0"
      ]
     },
     "execution_count": 30,
     "metadata": {},
     "output_type": "execute_result"
    }
   ],
   "source": [
    "print(accuracy_score(yte,y_pred))"
   ]
  },
  {
   "cell_type": "code",
   "execution_count": 35,
   "metadata": {
    "colab": {
     "base_uri": "https://localhost:8080/"
    },
    "id": "KrjX7Y3nh_av",
    "outputId": "0b542d81-2e29-42b8-8ec4-fd8499e076f1"
   },
   "outputs": [
    {
     "data": {
      "text/plain": [
       "0    3725\n",
       "1     298\n",
       "Name: Sts_Score, dtype: int64"
      ]
     },
     "execution_count": 35,
     "metadata": {},
     "output_type": "execute_result"
    }
   ],
   "source": [
    "print(data['Sts_Score'].value_counts())"
   ]
  },
  {
   "cell_type": "markdown",
   "metadata": {
    "id": "8O8E1slChghz"
   },
   "source": [
    "# **Conclusion:**\n",
    "#####       From the observation the classification model developed with accuracy rate of **100% . The Sts** dissimilarity**(0)** between the  paragraph are **3725** , the similarity**(1)** between the paragraph are **298** . There is **no missing values** in the dataset.  "
   ]
  },
  {
   "cell_type": "markdown",
   "metadata": {
    "id": "G8C1MPF0tZjK"
   },
   "source": [
    "# Why ? \n",
    "  **PyTorch and Tensorflow are among the most popular libraries for deep learning . Similarly to the way human brains process information, deep learning structures algorithms into layers creating deep artificial neural networks, which it can learn and make decisions on its own**\n",
    "\n",
    "  \n"
   ]
  },
  {
   "cell_type": "markdown",
   "metadata": {
    "id": "U6fH-VSJtZmM"
   },
   "source": [
    "# Why not ?\n",
    "   **On evaluating this model with other unsupervised machine learning the Naive bayes Model has the highest accuacy ~ (100%) Other machine learning model got less accuracy score**"
   ]
  }
 ],
 "metadata": {
  "accelerator": "GPU",
  "colab": {
   "name": "Task_assesment_report.ipynb",
   "provenance": [],
   "toc_visible": true
  },
  "kernelspec": {
   "display_name": "Python 3",
   "name": "python3"
  },
  "language_info": {
   "name": "python"
  }
 },
 "nbformat": 4,
 "nbformat_minor": 0
}
